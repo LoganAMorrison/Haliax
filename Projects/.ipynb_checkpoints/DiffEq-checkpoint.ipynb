{
 "cells": [
  {
   "cell_type": "markdown",
   "metadata": {},
   "source": [
    "ODEProblem:\n",
    "- Functions and Jacobians: $\\frac{du}{dt}$, $\\frac{df}{du}$, $\\frac{df}{dt}$\n",
    "- Initial conditions: $u(t_{\\mathrm{start}})$\n",
    "- time-span: $(t_{\\mathrm{start}},t_{\\mathrm{final}})$\n",
    "\n",
    "Integrator:\n",
    "- `DEIntegrator.init(DEProblem, Algorithm)`\n",
    "- `DEIntegrator.step()`\n",
    "- `DEIntegrator.step(dt)`\n",
    "\n",
    "Algorithm:\n",
    "- Contains all information on how to step/solve\n"
   ]
  },
  {
   "cell_type": "code",
   "execution_count": 11,
   "metadata": {},
   "outputs": [],
   "source": [
    "from abc import ABC, abstractmethod\n",
    "import sys\n",
    "import numpy as np"
   ]
  },
  {
   "cell_type": "code",
   "execution_count": 16,
   "metadata": {},
   "outputs": [],
   "source": [
    "x = np.zeros((2,2))"
   ]
  },
  {
   "cell_type": "code",
   "execution_count": 15,
   "metadata": {},
   "outputs": [
    {
     "data": {
      "text/plain": [
       "array([3., 5., 7., 9.])"
      ]
     },
     "execution_count": 15,
     "metadata": {},
     "output_type": "execute_result"
    }
   ],
   "source": [
    "np.diff(x)"
   ]
  },
  {
   "cell_type": "code",
   "execution_count": null,
   "metadata": {},
   "outputs": [],
   "source": [
    "class ODEProblem(ABC):\n",
    "    def __init__(self):\n",
    "        pass\n",
    "    \n",
    "    @abstractmethod\n",
    "    def dudt(self, du, u, t):\n",
    "        pass\n",
    "    \n",
    "    def dfdu(self, df, u, t):\n",
    "        \"\"\"\n",
    "        Compute the jacobian of dudt.\n",
    "        \n",
    "        Parameters\n",
    "        ----------\n",
    "        df: np.array\n",
    "            Matrix to store jacobian.\n",
    "        u: np.array\n",
    "            Current value of u(t).\n",
    "        t: float\n",
    "            Current time value.\n",
    "        \"\"\"\n",
    "        utemp = np.copy(u)\n",
    "        du0 = np.zeros_like(u)\n",
    "        du1 = np.zeros_like(u)\n",
    "        \n",
    "        self.dudt(du0, u, t)\n",
    "        \n",
    "        for i in range(u.shape[0]):\n",
    "            ysafe = utemp[i];\n",
    "            delt = np.sqrt(eps * np.max(1.0e-5, np.abs(ysafe)));\n",
    "            utemp[i] = ysafe + delt;\n",
    "            self.dudt(du1, utemp, t);\n",
    "            \n",
    "            for j in range(u.shape[0]):\n",
    "                df[j, i] = (du1[j] - du0[j]) / delt;\n",
    "            utemp[i] = ysafe;\n",
    "        \n",
    "        return None\n",
    "    \n",
    "    def dfdt(self, df, u, t):    \n",
    "        delt = np.sqrt(sys.float_info.min * np.max(1.e-5, np.abs(t)))\n",
    "        du = np.zeros_like(u)\n",
    "        self.dudt(du, u, t)\n",
    "        self.dudt(df, u, t + delt)\n",
    "        # finite difference\n",
    "        df = (df - du) / delt\n",
    "        return None\n",
    "    \n",
    "    def uinit(self):\n",
    "        pass"
   ]
  },
  {
   "cell_type": "code",
   "execution_count": null,
   "metadata": {},
   "outputs": [],
   "source": [
    "\n",
    "\n",
    "sol = solve(prob, alg)"
   ]
  },
  {
   "cell_type": "code",
   "execution_count": null,
   "metadata": {},
   "outputs": [],
   "source": []
  }
 ],
 "metadata": {
  "kernelspec": {
   "display_name": "Python 3",
   "language": "python",
   "name": "python3"
  },
  "language_info": {
   "codemirror_mode": {
    "name": "ipython",
    "version": 3
   },
   "file_extension": ".py",
   "mimetype": "text/x-python",
   "name": "python",
   "nbconvert_exporter": "python",
   "pygments_lexer": "ipython3",
   "version": "3.6.2"
  }
 },
 "nbformat": 4,
 "nbformat_minor": 4
}
